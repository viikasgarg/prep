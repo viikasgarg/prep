{
 "cells": [
  {
   "cell_type": "code",
   "execution_count": 103,
   "metadata": {},
   "outputs": [],
   "source": [
    "class Node(object):\n",
    "    def __init__(self, d=None):\n",
    "        self.data = d\n",
    "        self.next = None\n",
    "\n",
    "\n",
    "class LinkedList(object):\n",
    "    \n",
    "    def __init__(self):\n",
    "        self.HEAD = self.TAIL = None\n",
    "        self.SIZE = 0\n",
    "\n",
    "    def head_insert(self, d):\n",
    "        node = Node(d)\n",
    "        if not self.SIZE:\n",
    "            self.HEAD = node\n",
    "            self.TAIL = node\n",
    "        else:\n",
    "            node.next = self.HEAD\n",
    "            self.HEAD = node\n",
    "        self.SIZE += 1\n",
    "    \n",
    "    def tail_insert(self, d):\n",
    "        node = Node(d)\n",
    "        if not self.SIZE:\n",
    "            self.HEAD = node\n",
    "            self.TAIL = node\n",
    "        else:\n",
    "            self.TAIL.next = node\n",
    "            self.TAIL = node\n",
    "        self.SIZE += 1\n",
    "    \n",
    "    def traverse(self):\n",
    "        trav = self.HEAD\n",
    "        while trav:\n",
    "            print(\"{}\".format(trav.data), end=', ')\n",
    "            trav = trav.next\n",
    "\n",
    "    def __repr__(self):\n",
    "        a = ''\n",
    "        trav = self.HEAD\n",
    "        while trav:\n",
    "            a += \"{} \".format(trav.data)\n",
    "            trav = trav.next   \n",
    "        return a"
   ]
  },
  {
   "cell_type": "code",
   "execution_count": 104,
   "metadata": {},
   "outputs": [],
   "source": [
    "a = LinkedList()"
   ]
  },
  {
   "cell_type": "code",
   "execution_count": 105,
   "metadata": {},
   "outputs": [],
   "source": [
    "a.head_insert(4)"
   ]
  },
  {
   "cell_type": "code",
   "execution_count": 106,
   "metadata": {},
   "outputs": [],
   "source": [
    "a.head_insert(6)"
   ]
  },
  {
   "cell_type": "code",
   "execution_count": 107,
   "metadata": {},
   "outputs": [],
   "source": [
    "a.tail_insert(10)"
   ]
  },
  {
   "cell_type": "code",
   "execution_count": 108,
   "metadata": {},
   "outputs": [
    {
     "data": {
      "text/plain": [
       "6 4 10 "
      ]
     },
     "execution_count": 108,
     "metadata": {},
     "output_type": "execute_result"
    }
   ],
   "source": [
    "a"
   ]
  },
  {
   "cell_type": "code",
   "execution_count": 109,
   "metadata": {},
   "outputs": [
    {
     "name": "stdout",
     "output_type": "stream",
     "text": [
      "6, 4, 10, "
     ]
    }
   ],
   "source": [
    "a.traverse()"
   ]
  },
  {
   "cell_type": "code",
   "execution_count": null,
   "metadata": {},
   "outputs": [],
   "source": []
  },
  {
   "cell_type": "code",
   "execution_count": null,
   "metadata": {},
   "outputs": [],
   "source": []
  }
 ],
 "metadata": {
  "kernelspec": {
   "display_name": "Python 3",
   "language": "python",
   "name": "python3"
  },
  "language_info": {
   "codemirror_mode": {
    "name": "ipython",
    "version": 3
   },
   "file_extension": ".py",
   "mimetype": "text/x-python",
   "name": "python",
   "nbconvert_exporter": "python",
   "pygments_lexer": "ipython3",
   "version": "3.7.3"
  }
 },
 "nbformat": 4,
 "nbformat_minor": 2
}

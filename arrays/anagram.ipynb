{
 "cells": [
  {
   "cell_type": "markdown",
   "metadata": {},
   "source": [
    "function to check anagram of strings"
   ]
  },
  {
   "cell_type": "code",
   "execution_count": 1,
   "metadata": {},
   "outputs": [],
   "source": [
    "def anagram(s1, s2):\n",
    "    if(sorted(s1.replace(' ', '').lower()) == sorted(s2.replace(' ', '').lower())):\n",
    "        print(\"Anagram True\")\n",
    "    else:\n",
    "        print(\"anagram False\")"
   ]
  },
  {
   "cell_type": "code",
   "execution_count": 2,
   "metadata": {},
   "outputs": [
    {
     "name": "stdout",
     "output_type": "stream",
     "text": [
      "anagram False\n"
     ]
    }
   ],
   "source": [
    "anagram(\"public relations\", \"crab built on lies\")"
   ]
  },
  {
   "cell_type": "code",
   "execution_count": 3,
   "metadata": {},
   "outputs": [],
   "source": [
    "def anagram2(s1, s2):\n",
    "    s1 = s1.replace(' ', '').lower()\n",
    "    s2 = s2.replace(' ', '').lower()\n",
    "    if len(s1) != len(s1):\n",
    "        return False\n",
    "    \n",
    "    count = {}\n",
    "    for s in s1:\n",
    "        count[s] = count.get(s, 0) + 1\n",
    "    \n",
    "    for s in s2:\n",
    "        count[s] = count.get(s, 0) - 1\n",
    "    \n",
    "    for a, b in count.items():\n",
    "        if b != 0:\n",
    "            return False\n",
    "    return True    "
   ]
  },
  {
   "cell_type": "code",
   "execution_count": 5,
   "metadata": {},
   "outputs": [
    {
     "data": {
      "text/plain": [
       "True"
      ]
     },
     "execution_count": 5,
     "metadata": {},
     "output_type": "execute_result"
    }
   ],
   "source": [
    "anagram2(\"public relations\", \"crap built on lies\")"
   ]
  }
 ],
 "metadata": {
  "kernelspec": {
   "display_name": "Python 3",
   "language": "python",
   "name": "python3"
  },
  "language_info": {
   "codemirror_mode": {
    "name": "ipython",
    "version": 3
   },
   "file_extension": ".py",
   "mimetype": "text/x-python",
   "name": "python",
   "nbconvert_exporter": "python",
   "pygments_lexer": "ipython3",
   "version": "3.7.3"
  }
 },
 "nbformat": 4,
 "nbformat_minor": 2
}
